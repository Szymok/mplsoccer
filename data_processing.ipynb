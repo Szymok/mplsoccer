{
 "cells": [
  {
   "cell_type": "code",
   "execution_count": null,
   "metadata": {},
   "outputs": [],
   "source": [
    "team_season_stats = []\n",
    "team_match_stats =[]\n",
    "player_season_stats = []\n",
    "player_match_stats = []"
   ]
  }
 ],
 "metadata": {
  "language_info": {
   "name": "python"
  }
 },
 "nbformat": 4,
 "nbformat_minor": 2
}
